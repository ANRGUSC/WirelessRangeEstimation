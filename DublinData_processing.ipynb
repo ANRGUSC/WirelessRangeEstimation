{
 "cells": [
  {
   "cell_type": "code",
   "execution_count": 121,
   "metadata": {},
   "outputs": [],
   "source": [
    "import pandas as pd\n",
    "import numpy as np\n",
    "import matplotlib.pyplot as plt\n",
    "from sklearn.linear_model import LinearRegression\n",
    "import json"
   ]
  },
  {
   "cell_type": "markdown",
   "metadata": {},
   "source": [
    "## Outside"
   ]
  },
  {
   "cell_type": "code",
   "execution_count": 122,
   "metadata": {},
   "outputs": [],
   "source": [
    "_1a = pd.read_csv(\"./DublinData/extracted_data/fig1a_rssi_vs_dist_garden.csv\",delimiter=\" \",usecols=[3,5],header=None)"
   ]
  },
  {
   "cell_type": "code",
   "execution_count": 123,
   "metadata": {},
   "outputs": [],
   "source": [
    "d = _1a.values[:,0]\n",
    "rss = _1a.values[:,1]"
   ]
  },
  {
   "cell_type": "code",
   "execution_count": 124,
   "metadata": {},
   "outputs": [
    {
     "data": {
      "text/plain": [
       "<matplotlib.collections.PathCollection at 0x7f14356aa940>"
      ]
     },
     "execution_count": 124,
     "metadata": {},
     "output_type": "execute_result"
    },
    {
     "data": {
      "image/png": "[encoded data removed]",
      "text/plain": [
       "<Figure size 432x288 with 1 Axes>"
      ]
     },
     "metadata": {
      "needs_background": "light"
     },
     "output_type": "display_data"
    }
   ],
   "source": [
    "plt.scatter(d,rss)"
   ]
  },
  {
   "cell_type": "code",
   "execution_count": 125,
   "metadata": {},
   "outputs": [
    {
     "name": "stdout",
     "output_type": "stream",
     "text": [
      "Pathloss exponent: 2.3022623198991323\n",
      "Reference gain: -63.56640976644902\n",
      "Noise standard deviation: 2.810111495683181\n"
     ]
    }
   ],
   "source": [
    "# fit model parameters to this data\n",
    "d = 10*np.log10(d)\n",
    "reg = LinearRegression().fit(d.reshape(-1,1), rss)\n",
    "outside_m = reg.coef_\n",
    "outside_b = reg.intercept_\n",
    "print(\"Pathloss exponent:\",-outside_m[0])\n",
    "print(\"Reference gain:\",outside_b)\n",
    "noise_samples = rss - (outside_m[0]*d+outside_b)\n",
    "print(\"Noise standard deviation:\",np.std(noise_samples))\n",
    "outside_n = np.std(noise_samples)"
   ]
  },
  {
   "cell_type": "markdown",
   "metadata": {},
   "source": [
    "## Inside"
   ]
  },
  {
   "cell_type": "code",
   "execution_count": 126,
   "metadata": {},
   "outputs": [],
   "source": [
    "_2a = pd.read_csv(\"./DublinData/extracted_data/fig2a_rssi_vs_dist_indoors.csv\",delimiter=\" \",usecols=[3,5],header=None)"
   ]
  },
  {
   "cell_type": "code",
   "execution_count": 127,
   "metadata": {},
   "outputs": [],
   "source": [
    "d = _2a.values[:,0]\n",
    "rss = _2a.values[:,1]"
   ]
  },
  {
   "cell_type": "code",
   "execution_count": 128,
   "metadata": {},
   "outputs": [
    {
     "data": {
      "text/plain": [
       "<matplotlib.collections.PathCollection at 0x7f1435621d68>"
      ]
     },
     "execution_count": 128,
     "metadata": {},
     "output_type": "execute_result"
    },
    {
     "data": {
      "image/png": "[encoded data removed]",
      "text/plain": [
       "<Figure size 432x288 with 1 Axes>"
      ]
     },
     "metadata": {
      "needs_background": "light"
     },
     "output_type": "display_data"
    }
   ],
   "source": [
    "plt.scatter(d,rss)"
   ]
  },
  {
   "cell_type": "code",
   "execution_count": 129,
   "metadata": {},
   "outputs": [
    {
     "name": "stdout",
     "output_type": "stream",
     "text": [
      "Pathloss exponent: 2.3157825451170186\n",
      "Reference gain: -62.91895634916471\n",
      "Noise standard deviation: 3.4418272075659933\n"
     ]
    }
   ],
   "source": [
    "# fit model parameters to this data\n",
    "d = 10*np.log10(d)\n",
    "reg = LinearRegression().fit(d.reshape(-1,1), rss)\n",
    "m = reg.coef_\n",
    "b = reg.intercept_\n",
    "print(\"Pathloss exponent:\",-m[0])\n",
    "print(\"Reference gain:\",b)\n",
    "noise_samples = rss - (m[0]*d+b)\n",
    "print(\"Noise standard deviation:\",np.std(noise_samples))"
   ]
  },
  {
   "cell_type": "code",
   "execution_count": 130,
   "metadata": {},
   "outputs": [
    {
     "name": "stdout",
     "output_type": "stream",
     "text": [
      "[-65.88460502] 3.4418272075659933\n"
     ]
    }
   ],
   "source": [
    "# for table scenario (across table)\n",
    "rss_1 = m*np.linalg.norm([0.8,1])+b\n",
    "std_1 = np.std(noise_samples)\n",
    "print(rss_1,std_1)"
   ]
  },
  {
   "cell_type": "markdown",
   "metadata": {},
   "source": [
    "## Train"
   ]
  },
  {
   "cell_type": "code",
   "execution_count": 131,
   "metadata": {},
   "outputs": [],
   "source": [
    "_12a = pd.read_csv(\"./DublinData/extracted_data/fig12a_rssi_vs_dist_train.csv\",delimiter=\" \",usecols=[3,5],header=None)"
   ]
  },
  {
   "cell_type": "code",
   "execution_count": 132,
   "metadata": {},
   "outputs": [],
   "source": [
    "d = _12a.values[:,0]\n",
    "rss = _12a.values[:,1]"
   ]
  },
  {
   "cell_type": "code",
   "execution_count": 133,
   "metadata": {},
   "outputs": [
    {
     "data": {
      "text/plain": [
       "<matplotlib.collections.PathCollection at 0x7f143558d240>"
      ]
     },
     "execution_count": 133,
     "metadata": {},
     "output_type": "execute_result"
    },
    {
     "data": {
      "image/png": "[encoded data removed]",
      "text/plain": [
       "<Figure size 432x288 with 1 Axes>"
      ]
     },
     "metadata": {
      "needs_background": "light"
     },
     "output_type": "display_data"
    }
   ],
   "source": [
    "plt.scatter(d,rss)"
   ]
  },
  {
   "cell_type": "code",
   "execution_count": 134,
   "metadata": {},
   "outputs": [
    {
     "name": "stdout",
     "output_type": "stream",
     "text": [
      "Pathloss exponent: 1.364031958173685\n",
      "Reference gain: -60.45173678877618\n",
      "Noise standard deviation: 5.054001120182359\n"
     ]
    }
   ],
   "source": [
    "# fit model parameters to this data\n",
    "d = 10*np.log10(d)\n",
    "reg = LinearRegression().fit(d.reshape(-1,1), rss)\n",
    "m = reg.coef_\n",
    "b = reg.intercept_\n",
    "print(\"Pathloss exponent:\",-m[0])\n",
    "print(\"Reference gain:\",b)\n",
    "noise_samples = rss - (m[0]*d+b)\n",
    "print(\"Noise standard deviation:\",np.std(noise_samples))\n",
    "std_2 = np.std(noise_samples)"
   ]
  },
  {
   "cell_type": "code",
   "execution_count": 135,
   "metadata": {},
   "outputs": [
    {
     "name": "stdout",
     "output_type": "stream",
     "text": [
      "[-62.38076928]\n",
      "[-64.37910672]\n",
      "[-62.77059112]\n"
     ]
    }
   ],
   "source": [
    "# for train scenario, across aisle\n",
    "rss_2 = m*np.linalg.norm(np.subtract([1,0],[0,1]))+b\n",
    "print(rss_2)\n",
    "rss_3 = m*np.linalg.norm(np.subtract([2.7,0],[0,1]))+b\n",
    "print(rss_3)\n",
    "rss_4 = m*np.linalg.norm(np.subtract([1,0],[2.7,0]))+b\n",
    "print(rss_4)"
   ]
  },
  {
   "cell_type": "markdown",
   "metadata": {},
   "source": [
    "## Values from experiments"
   ]
  },
  {
   "cell_type": "code",
   "execution_count": 136,
   "metadata": {},
   "outputs": [
    {
     "name": "stdout",
     "output_type": "stream",
     "text": [
      "./DublinData/extracted_data/fig9a_table_dl_and_mike.csv\n",
      "mean: -89.29166666666667\n",
      "std: 3.2336662199772914\n",
      "./DublinData/extracted_data/fig9b_table_dl_and_euan.csv\n",
      "mean: -81.38888888888889\n",
      "std: 4.124976617965904\n",
      "./DublinData/extracted_data/fig9c_table_dl_and_mike_handsets_on_table.csv\n",
      "mean: -65.4047619047619\n",
      "std: 5.214720573299817\n",
      "./DublinData/extracted_data/fig9d_table_dl_and_euan_handsets_on_table.csv\n",
      "mean: -65.77142857142857\n",
      "std: 1.972463496467795\n",
      "./DublinData/extracted_data/fig11a_sligotrain_sitting1.csv\n",
      "mean: -62.02272727272727\n",
      "std: 3.2605676887457133\n",
      "./DublinData/extracted_data/fig11c_sligotrain_sitting2.csv\n",
      "mean: -69.56696428571429\n",
      "std: 2.0299053634193824\n",
      "./DublinData/extracted_data/fig11d_sligotrain_sitting3.csv\n",
      "mean: -65.99065420560747\n",
      "std: 5.344217465605097\n",
      "./DublinData/extracted_data/fig14a_lidl_2m.csv\n",
      "mean: -87.31818181818181\n",
      "std: 7.438961908087207\n",
      "./DublinData/extracted_data/fig14c_lidl_4m_2.csv\n",
      "mean: -95.34883720930233\n",
      "std: 3.1761005851495887\n"
     ]
    }
   ],
   "source": [
    "extracted = []\n",
    "for filename in [\"./DublinData/extracted_data/fig9a_table_dl_and_mike.csv\",\n",
    "                 \"./DublinData/extracted_data/fig9b_table_dl_and_euan.csv\",\n",
    "                 \"./DublinData/extracted_data/fig9c_table_dl_and_mike_handsets_on_table.csv\",\n",
    "                 \"./DublinData/extracted_data/fig9d_table_dl_and_euan_handsets_on_table.csv\",\n",
    "                \"./DublinData/extracted_data/fig11a_sligotrain_sitting1.csv\",\n",
    "                \"./DublinData/extracted_data/fig11c_sligotrain_sitting2.csv\",\n",
    "                \"./DublinData/extracted_data/fig11d_sligotrain_sitting3.csv\",\n",
    "                \"./DublinData/extracted_data/fig14a_lidl_2m.csv\",\n",
    "                \"./DublinData/extracted_data/fig14c_lidl_4m_2.csv\"]:\n",
    "    print(filename)\n",
    "    data = pd.read_csv(filename,delimiter=\" \",usecols=[3,5],header=None)\n",
    "    mean = np.mean(data.values[:,1])\n",
    "    print(\"mean:\",mean)\n",
    "    std = np.std(data.values[:,1])\n",
    "    print(\"std:\",std)\n",
    "    extracted.append(mean)\n",
    "    extracted.append(std)"
   ]
  },
  {
   "cell_type": "markdown",
   "metadata": {},
   "source": [
    "## Effect of body (front pocket v back pocket)"
   ]
  },
  {
   "cell_type": "code",
   "execution_count": 137,
   "metadata": {},
   "outputs": [],
   "source": [
    "_4 = pd.read_csv(\"./DublinData/extracted_data/fig4_human_body_controlled_test.csv\",delimiter=\" \",usecols=[3,5],header=None)"
   ]
  },
  {
   "cell_type": "code",
   "execution_count": 138,
   "metadata": {},
   "outputs": [
    {
     "data": {
      "text/plain": [
       "<matplotlib.collections.PathCollection at 0x7f143556c9b0>"
      ]
     },
     "execution_count": 138,
     "metadata": {},
     "output_type": "execute_result"
    },
    {
     "data": {
      "image/png": "[encoded data removed]",
      "text/plain": [
       "<Figure size 432x288 with 1 Axes>"
      ]
     },
     "metadata": {
      "needs_background": "light"
     },
     "output_type": "display_data"
    }
   ],
   "source": [
    "plt.scatter(_4.values[:,0],_4.values[:,1])"
   ]
  },
  {
   "cell_type": "code",
   "execution_count": 139,
   "metadata": {},
   "outputs": [
    {
     "name": "stdout",
     "output_type": "stream",
     "text": [
      "without body: -69.52\n",
      "with body: -86.06716417910448\n",
      "difference: 16.547164179104485\n"
     ]
    }
   ],
   "source": [
    "print(\"without body:\",np.mean(_4.values[:,1][np.where(_4.values[:,1]>=-80)]))\n",
    "print(\"with body:\",np.mean(_4.values[:,1][np.where(_4.values[:,1]<-80)]))\n",
    "print(\"difference:\",np.mean(_4.values[:,1][np.where(_4.values[:,1]>=-80)])-np.mean(_4.values[:,1][np.where(_4.values[:,1]<-80)]))\n",
    "body = np.mean(_4.values[:,1][np.where(_4.values[:,1]>=-80)])-np.mean(_4.values[:,1][np.where(_4.values[:,1]<-80)])"
   ]
  },
  {
   "cell_type": "code",
   "execution_count": 140,
   "metadata": {},
   "outputs": [
    {
     "name": "stdout",
     "output_type": "stream",
     "text": [
      "without body: 1.4630478771759627\n",
      "with body: 3.463450443278382\n",
      "difference: -2.0004025661024194\n"
     ]
    }
   ],
   "source": [
    "print(\"without body:\",np.std(_4.values[:,1][np.where(_4.values[:,1]>=-80)]))\n",
    "print(\"with body:\",np.std(_4.values[:,1][np.where(_4.values[:,1]<-80)]))\n",
    "print(\"difference:\",np.std(_4.values[:,1][np.where(_4.values[:,1]>=-80)])-np.std(_4.values[:,1][np.where(_4.values[:,1]<-80)]))\n",
    "body_var = np.std(_4.values[:,1][np.where(_4.values[:,1]>=-80)])-np.std(_4.values[:,1][np.where(_4.values[:,1]<-80)])"
   ]
  },
  {
   "cell_type": "markdown",
   "metadata": {},
   "source": [
    "## Effect of purse"
   ]
  },
  {
   "cell_type": "code",
   "execution_count": 141,
   "metadata": {},
   "outputs": [],
   "source": [
    "_5 = pd.read_csv(\"./DublinData/extracted_data/fig5_handbag.csv\",delimiter=\" \",usecols=[3,5],header=None)"
   ]
  },
  {
   "cell_type": "code",
   "execution_count": 142,
   "metadata": {},
   "outputs": [
    {
     "data": {
      "text/plain": [
       "<matplotlib.lines.Line2D at 0x7f14354dd8d0>"
      ]
     },
     "execution_count": 142,
     "metadata": {},
     "output_type": "execute_result"
    },
    {
     "data": {
      "image/png": "[encoded data removed]",
      "text/plain": [
       "<Figure size 432x288 with 1 Axes>"
      ]
     },
     "metadata": {
      "needs_background": "light"
     },
     "output_type": "display_data"
    }
   ],
   "source": [
    "plt.scatter(_5.values[:,0],_5.values[:,1])\n",
    "plt.axvline(630)\n",
    "plt.axvline(1200)"
   ]
  },
  {
   "cell_type": "code",
   "execution_count": 143,
   "metadata": {},
   "outputs": [
    {
     "name": "stdout",
     "output_type": "stream",
     "text": [
      "without purse: -63.83529411764706\n",
      "with purse: -76.3\n",
      "difference: 12.464705882352938\n"
     ]
    }
   ],
   "source": [
    "print(\"without purse:\",np.mean(_5.values[:,1][163:]))\n",
    "print(\"with purse:\",np.mean(_5.values[:,1][93:163]))\n",
    "print(\"difference:\",np.mean(_5.values[:,1][163:])-np.mean(_5.values[:,1][93:163]))\n",
    "purse = np.mean(_5.values[:,1][163:])-np.mean(_5.values[:,1][93:163])"
   ]
  },
  {
   "cell_type": "code",
   "execution_count": 144,
   "metadata": {},
   "outputs": [
    {
     "name": "stdout",
     "output_type": "stream",
     "text": [
      "without purse: 2.524454787140847\n",
      "with purse: 5.351501791887155\n",
      "difference: -2.8270470047463077\n"
     ]
    }
   ],
   "source": [
    "print(\"without purse:\",np.std(_5.values[:,1][163:]))\n",
    "print(\"with purse:\",np.std(_5.values[:,1][93:163]))\n",
    "print(\"difference:\",np.std(_5.values[:,1][163:])-np.std(_5.values[:,1][93:163]))\n",
    "purse_var = np.std(_5.values[:,1][163:])-np.std(_5.values[:,1][93:163])"
   ]
  },
  {
   "cell_type": "code",
   "execution_count": 145,
   "metadata": {},
   "outputs": [],
   "source": [
    "scenarios = {}"
   ]
  },
  {
   "cell_type": "markdown",
   "metadata": {},
   "source": [
    "# At a table, phones on table"
   ]
  },
  {
   "cell_type": "code",
   "execution_count": 146,
   "metadata": {},
   "outputs": [],
   "source": [
    "# locations from paper, cross measurements assumed from inside model\n",
    "locs = np.array([[0,0],[0.8,0],[0,1],[0.8,1]])\n",
    "rss = np.array([[0,extracted[4],extracted[6],rss_1[0]],\n",
    "               [extracted[4],0,rss_1[0],extracted[6]],\n",
    "               [extracted[6],rss_1[0],0,extracted[4]],\n",
    "               [rss_1[0],extracted[6],extracted[4],0]])\n",
    "std = np.array([[0,extracted[5],extracted[7],std_1],\n",
    "               [extracted[5],0,std_1,extracted[7]],\n",
    "               [extracted[7],std_1,0,extracted[5]],\n",
    "               [std_1,extracted[7],extracted[5],0]])"
   ]
  },
  {
   "cell_type": "code",
   "execution_count": 147,
   "metadata": {},
   "outputs": [
    {
     "name": "stdout",
     "output_type": "stream",
     "text": [
      "[[0.  0. ]\n",
      " [0.8 0. ]\n",
      " [0.  1. ]\n",
      " [0.8 1. ]]\n",
      "[[  0.         -65.4047619  -65.77142857 -65.88460502]\n",
      " [-65.4047619    0.         -65.88460502 -65.77142857]\n",
      " [-65.77142857 -65.88460502   0.         -65.4047619 ]\n",
      " [-65.88460502 -65.77142857 -65.4047619    0.        ]]\n",
      "[[0.         5.21472057 1.9724635  3.44182721]\n",
      " [5.21472057 0.         3.44182721 1.9724635 ]\n",
      " [1.9724635  3.44182721 0.         5.21472057]\n",
      " [3.44182721 1.9724635  5.21472057 0.        ]]\n"
     ]
    }
   ],
   "source": [
    "print(locs)\n",
    "print(rss)\n",
    "print(std)\n",
    "scenarios[\"phone_table\"] = {\"locs\":locs.tolist(),\"rss\":rss.tolist(),\"std\":std.tolist()}"
   ]
  },
  {
   "cell_type": "markdown",
   "metadata": {},
   "source": [
    "# At a table, phones in pockets"
   ]
  },
  {
   "cell_type": "code",
   "execution_count": 160,
   "metadata": {},
   "outputs": [
    {
     "name": "stdout",
     "output_type": "stream",
     "text": [
      "estimate hypotenuse\n",
      "[-99.73485336]\n"
     ]
    }
   ],
   "source": [
    "# for across the table\n",
    "d = 10*np.log10([0.8,1])\n",
    "reg = LinearRegression().fit(d.reshape(-1,1), [extracted[2],extracted[0]])\n",
    "m = reg.coef_\n",
    "b = reg.intercept_\n",
    "print(\"estimate hypotenuse\")\n",
    "print(m*np.linalg.norm([0.8,1])+b)\n",
    "rss_5 = m*np.linalg.norm([0.8,1])+b"
   ]
  },
  {
   "cell_type": "code",
   "execution_count": 161,
   "metadata": {},
   "outputs": [],
   "source": [
    "# locations from paper, cross measurements assumed from inside model plus assumed pocket attenuation\n",
    "locs = np.array([[0,0],[0.8,0],[0,1],[0.8,1]])\n",
    "rss = np.array([[0,extracted[0],extracted[2],rss_5[0]],\n",
    "               [extracted[0],0,rss_5[0],extracted[2]],\n",
    "               [extracted[2],rss_5[0],0,extracted[0]],\n",
    "               [rss_5[0],extracted[2],extracted[0],0]])\n",
    "std = np.array([[0,extracted[1],extracted[3],std_1],\n",
    "               [extracted[1],0,std_1,extracted[3]],\n",
    "               [extracted[3],std_1,0,extracted[1]],\n",
    "               [std_1,extracted[3],extracted[1],0]])"
   ]
  },
  {
   "cell_type": "code",
   "execution_count": 162,
   "metadata": {},
   "outputs": [
    {
     "name": "stdout",
     "output_type": "stream",
     "text": [
      "[[0.  0. ]\n",
      " [0.8 0. ]\n",
      " [0.  1. ]\n",
      " [0.8 1. ]]\n",
      "[[  0.         -89.29166667 -81.38888889 -99.73485336]\n",
      " [-89.29166667   0.         -99.73485336 -81.38888889]\n",
      " [-81.38888889 -99.73485336   0.         -89.29166667]\n",
      " [-99.73485336 -81.38888889 -89.29166667   0.        ]]\n",
      "[[0.         3.23366622 4.12497662 3.44182721]\n",
      " [3.23366622 0.         3.44182721 4.12497662]\n",
      " [4.12497662 3.44182721 0.         3.23366622]\n",
      " [3.44182721 4.12497662 3.23366622 0.        ]]\n"
     ]
    }
   ],
   "source": [
    "print(locs)\n",
    "print(rss)\n",
    "print(std)\n",
    "scenarios[\"phone_pocket\"] = {\"locs\":locs.tolist(),\"rss\":rss.tolist(),\"std\":std.tolist()}"
   ]
  },
  {
   "cell_type": "markdown",
   "metadata": {},
   "source": [
    "# On a train car"
   ]
  },
  {
   "cell_type": "code",
   "execution_count": 151,
   "metadata": {},
   "outputs": [],
   "source": [
    "# other pairs assumed from on train parameters\n",
    "locs = np.array([[0,0],[1,0],[2.7,0],[0,1]])\n",
    "rss = np.array([[0,extracted[12],extracted[10],extracted[8]],\n",
    "               [extracted[12],0,rss_4[0],rss_2[0]],\n",
    "               [extracted[10],rss_4[0],0,rss_3[0]],\n",
    "               [extracted[8],rss_2[0],rss_3[0],0]])\n",
    "std = np.array([[0,extracted[13],extracted[11],extracted[9]],\n",
    "               [extracted[13],0,std_2,std_2],\n",
    "               [extracted[11],std_2,0,std_2],\n",
    "               [extracted[9],std_2,std_2,0]])"
   ]
  },
  {
   "cell_type": "code",
   "execution_count": 152,
   "metadata": {},
   "outputs": [
    {
     "name": "stdout",
     "output_type": "stream",
     "text": [
      "[[0.  0. ]\n",
      " [1.  0. ]\n",
      " [2.7 0. ]\n",
      " [0.  1. ]]\n",
      "[[  0.         -65.99065421 -69.56696429 -62.02272727]\n",
      " [-65.99065421   0.         -62.77059112 -62.38076928]\n",
      " [-69.56696429 -62.77059112   0.         -64.37910672]\n",
      " [-62.02272727 -62.38076928 -64.37910672   0.        ]]\n",
      "[[0.         5.34421747 2.02990536 3.26056769]\n",
      " [5.34421747 0.         5.05400112 5.05400112]\n",
      " [2.02990536 5.05400112 0.         5.05400112]\n",
      " [3.26056769 5.05400112 5.05400112 0.        ]]\n"
     ]
    }
   ],
   "source": [
    "print(locs)\n",
    "print(rss)\n",
    "print(std)\n",
    "scenarios[\"train\"] = {\"locs\":locs.tolist(),\"rss\":rss.tolist(),\"std\":std.tolist()}"
   ]
  },
  {
   "cell_type": "markdown",
   "metadata": {},
   "source": [
    "# In a grocery line"
   ]
  },
  {
   "cell_type": "code",
   "execution_count": 153,
   "metadata": {},
   "outputs": [],
   "source": [
    "locs = np.array([[0,0],[0,2],[0,4]])\n",
    "rss = np.array([[0,extracted[14],extracted[16]],\n",
    "                [extracted[14],0,extracted[14]],\n",
    "                [extracted[16],extracted[14],0]])\n",
    "std = np.array([[0,extracted[15],extracted[17]],\n",
    "                [extracted[15],0,extracted[15]],\n",
    "                [extracted[17],extracted[15],0]])"
   ]
  },
  {
   "cell_type": "code",
   "execution_count": 154,
   "metadata": {},
   "outputs": [
    {
     "name": "stdout",
     "output_type": "stream",
     "text": [
      "[[0 0]\n",
      " [0 2]\n",
      " [0 4]]\n",
      "[[  0.         -87.31818182 -95.34883721]\n",
      " [-87.31818182   0.         -87.31818182]\n",
      " [-95.34883721 -87.31818182   0.        ]]\n",
      "[[0.         7.43896191 3.17610059]\n",
      " [7.43896191 0.         7.43896191]\n",
      " [3.17610059 7.43896191 0.        ]]\n"
     ]
    }
   ],
   "source": [
    "print(locs)\n",
    "print(rss)\n",
    "print(std)\n",
    "scenarios[\"simple_grocery\"] = {\"locs\":locs.tolist(),\"rss\":rss.tolist(),\"std\":std.tolist()}"
   ]
  },
  {
   "cell_type": "markdown",
   "metadata": {},
   "source": [
    "# Made up scenario with pockets and purses and people in line"
   ]
  },
  {
   "cell_type": "code",
   "execution_count": 155,
   "metadata": {},
   "outputs": [],
   "source": [
    "locs = np.array([[0,0],[0,1],[2,0.5],[4,0],[4,1],[6,1]])\n",
    "rss = np.zeros((6,6))\n",
    "std = np.zeros((6,6))\n",
    "std.fill(outside_n)\n",
    "np.fill_diagonal(std,0)\n",
    "for i in range(6):\n",
    "    for j in range(6):\n",
    "        if i != j:\n",
    "            rss[i][j] = outside_m*np.linalg.norm(np.subtract(locs[i],locs[j]))+outside_b\n",
    "            \n",
    "loss = np.array([[0,body,max(body,purse),max(body,body),max(body,purse),body],\n",
    "                 [body,0,purse,body,purse,0],\n",
    "                 [max(body,purse),purse,0,max(body,purse),max(purse,purse),purse],\n",
    "                 [max(body,body),body,max(body,purse),0,purse,0],\n",
    "                 [max(body,purse),purse,max(purse,purse),purse,0,purse],\n",
    "                 [body,0,purse,0,purse,0]])\n",
    "std_loss = np.array([[0,body_var,max(body_var,purse_var),max(body_var,body_var),max(body_var,purse_var),body_var],\n",
    "                 [body_var,0,purse_var,body_var,purse_var,0],\n",
    "                 [max(body_var,purse_var),purse_var,0,max(body_var,purse_var),max(purse_var,purse_var),purse_var],\n",
    "                 [max(body_var,body_var),body_var,max(body_var,purse_var),0,purse_var,0],\n",
    "                 [max(body_var,purse_var),purse_var,max(purse_var,purse_var),purse_var,0,purse_var],\n",
    "                 [body_var,0,purse_var,0,purse_var,0]])\n",
    "rss = rss - loss\n",
    "std = std - std_loss"
   ]
  },
  {
   "cell_type": "code",
   "execution_count": 156,
   "metadata": {},
   "outputs": [
    {
     "name": "stdout",
     "output_type": "stream",
     "text": [
      "[[0.  0. ]\n",
      " [0.  1. ]\n",
      " [2.  0.5]\n",
      " [4.  0. ]\n",
      " [4.  1. ]\n",
      " [6.  1. ]]\n",
      "[[  0.         -82.41583627 -84.85980931 -89.32262323 -89.60604467\n",
      "  -94.11768892]\n",
      " [-82.41583627   0.         -80.77735101 -89.60604467 -85.24016493\n",
      "  -77.37998369]\n",
      " [-84.85980931 -80.77735101   0.         -84.85980931 -80.77735101\n",
      "  -85.31183176]\n",
      " [-89.32262323 -89.60604467 -84.85980931   0.         -78.33337797\n",
      "  -68.71442482]\n",
      " [-89.60604467 -85.24016493 -80.77735101 -78.33337797   0.\n",
      "  -80.63564029]\n",
      " [-94.11768892 -77.37998369 -85.31183176 -68.71442482 -80.63564029\n",
      "    0.        ]]\n",
      "[[0.         4.81051406 4.81051406 4.81051406 4.81051406 4.81051406]\n",
      " [4.81051406 0.         5.6371585  4.81051406 5.6371585  2.8101115 ]\n",
      " [4.81051406 5.6371585  0.         4.81051406 5.6371585  5.6371585 ]\n",
      " [4.81051406 4.81051406 4.81051406 0.         5.6371585  2.8101115 ]\n",
      " [4.81051406 5.6371585  5.6371585  5.6371585  0.         5.6371585 ]\n",
      " [4.81051406 2.8101115  5.6371585  2.8101115  5.6371585  0.        ]]\n"
     ]
    }
   ],
   "source": [
    "print(locs)\n",
    "print(rss)\n",
    "print(std)\n",
    "scenarios[\"complex_grocery\"] = {\"locs\":locs.tolist(),\"rss\":rss.tolist(),\"std\":std.tolist()}"
   ]
  },
  {
   "cell_type": "markdown",
   "metadata": {},
   "source": [
    "# Scenarios"
   ]
  },
  {
   "cell_type": "code",
   "execution_count": 157,
   "metadata": {
    "scrolled": false
   },
   "outputs": [
    {
     "data": {
      "text/plain": [
       "{'phone_table': {'locs': [[0.0, 0.0], [0.8, 0.0], [0.0, 1.0], [0.8, 1.0]],\n",
       "  'rss': [[0.0, -65.4047619047619, -65.77142857142857, -65.88460501781725],\n",
       "   [-65.4047619047619, 0.0, -65.88460501781725, -65.77142857142857],\n",
       "   [-65.77142857142857, -65.88460501781725, 0.0, -65.4047619047619],\n",
       "   [-65.88460501781725, -65.77142857142857, -65.4047619047619, 0.0]],\n",
       "  'std': [[0.0, 5.214720573299817, 1.972463496467795, 3.4418272075659933],\n",
       "   [5.214720573299817, 0.0, 3.4418272075659933, 1.972463496467795],\n",
       "   [1.972463496467795, 3.4418272075659933, 0.0, 5.214720573299817],\n",
       "   [3.4418272075659933, 1.972463496467795, 5.214720573299817, 0.0]]},\n",
       " 'phone_pocket': {'locs': [[0.0, 0.0], [0.8, 0.0], [0.0, 1.0], [0.8, 1.0]],\n",
       "  'rss': [[0.0, -89.29166666666667, -81.38888888888889, -99.73485336980099],\n",
       "   [-89.29166666666667, 0.0, -99.73485336980099, -81.38888888888889],\n",
       "   [-81.38888888888889, -99.73485336980099, 0.0, -89.29166666666667],\n",
       "   [-99.73485336980099, -81.38888888888889, -89.29166666666667, 0.0]],\n",
       "  'std': [[0.0, 3.2336662199772914, 4.124976617965904, 3.4418272075659933],\n",
       "   [3.2336662199772914, 0.0, 3.4418272075659933, 4.124976617965904],\n",
       "   [4.124976617965904, 3.4418272075659933, 0.0, 3.2336662199772914],\n",
       "   [3.4418272075659933, 4.124976617965904, 3.2336662199772914, 0.0]]},\n",
       " 'train': {'locs': [[0.0, 0.0], [1.0, 0.0], [2.7, 0.0], [0.0, 1.0]],\n",
       "  'rss': [[0.0, -65.99065420560747, -69.56696428571429, -62.02272727272727],\n",
       "   [-65.99065420560747, 0.0, -62.770591117671444, -62.380769283535734],\n",
       "   [-69.56696428571429, -62.770591117671444, 0.0, -64.3791067212373],\n",
       "   [-62.02272727272727, -62.380769283535734, -64.3791067212373, 0.0]],\n",
       "  'std': [[0.0, 5.344217465605097, 2.0299053634193824, 3.2605676887457133],\n",
       "   [5.344217465605097, 0.0, 5.054001120182359, 5.054001120182359],\n",
       "   [2.0299053634193824, 5.054001120182359, 0.0, 5.054001120182359],\n",
       "   [3.2605676887457133, 5.054001120182359, 5.054001120182359, 0.0]]},\n",
       " 'simple_grocery': {'locs': [[0, 0], [0, 2], [0, 4]],\n",
       "  'rss': [[0.0, -87.31818181818181, -95.34883720930233],\n",
       "   [-87.31818181818181, 0.0, -87.31818181818181],\n",
       "   [-95.34883720930233, -87.31818181818181, 0.0]],\n",
       "  'std': [[0.0, 7.438961908087207, 3.1761005851495887],\n",
       "   [7.438961908087207, 0.0, 7.438961908087207],\n",
       "   [3.1761005851495887, 7.438961908087207, 0.0]]},\n",
       " 'complex_grocery': {'locs': [[0.0, 0.0],\n",
       "   [0.0, 1.0],\n",
       "   [2.0, 0.5],\n",
       "   [4.0, 0.0],\n",
       "   [4.0, 1.0],\n",
       "   [6.0, 1.0]],\n",
       "  'rss': [[0.0,\n",
       "    -82.41583626545264,\n",
       "    -84.85980930696535,\n",
       "    -89.32262322515004,\n",
       "    -89.60604466837718,\n",
       "    -94.1176889199534],\n",
       "   [-82.41583626545264,\n",
       "    0.0,\n",
       "    -80.7773510102138,\n",
       "    -89.60604466837718,\n",
       "    -85.24016492839849,\n",
       "    -77.37998368584381],\n",
       "   [-84.85980930696535,\n",
       "    -80.7773510102138,\n",
       "    0.0,\n",
       "    -84.85980930696535,\n",
       "    -80.7773510102138,\n",
       "    -85.31183176241325],\n",
       "   [-89.32262322515004,\n",
       "    -89.60604466837718,\n",
       "    -84.85980930696535,\n",
       "    0.0,\n",
       "    -78.33337796870109,\n",
       "    -68.71442481577985],\n",
       "   [-89.60604466837718,\n",
       "    -85.24016492839849,\n",
       "    -80.7773510102138,\n",
       "    -78.33337796870109,\n",
       "    0.0,\n",
       "    -80.63564028860023],\n",
       "   [-94.1176889199534,\n",
       "    -77.37998368584381,\n",
       "    -85.31183176241325,\n",
       "    -68.71442481577985,\n",
       "    -80.63564028860023,\n",
       "    0.0]],\n",
       "  'std': [[0.0,\n",
       "    4.8105140617856,\n",
       "    4.8105140617856,\n",
       "    4.8105140617856,\n",
       "    4.8105140617856,\n",
       "    4.8105140617856],\n",
       "   [4.8105140617856,\n",
       "    0.0,\n",
       "    5.637158500429489,\n",
       "    4.8105140617856,\n",
       "    5.637158500429489,\n",
       "    2.810111495683181],\n",
       "   [4.8105140617856,\n",
       "    5.637158500429489,\n",
       "    0.0,\n",
       "    4.8105140617856,\n",
       "    5.637158500429489,\n",
       "    5.637158500429489],\n",
       "   [4.8105140617856,\n",
       "    4.8105140617856,\n",
       "    4.8105140617856,\n",
       "    0.0,\n",
       "    5.637158500429489,\n",
       "    2.810111495683181],\n",
       "   [4.8105140617856,\n",
       "    5.637158500429489,\n",
       "    5.637158500429489,\n",
       "    5.637158500429489,\n",
       "    0.0,\n",
       "    5.637158500429489],\n",
       "   [4.8105140617856,\n",
       "    2.810111495683181,\n",
       "    5.637158500429489,\n",
       "    2.810111495683181,\n",
       "    5.637158500429489,\n",
       "    0.0]]}}"
      ]
     },
     "execution_count": 157,
     "metadata": {},
     "output_type": "execute_result"
    }
   ],
   "source": [
    "scenarios"
   ]
  },
  {
   "cell_type": "code",
   "execution_count": 159,
   "metadata": {},
   "outputs": [],
   "source": [
    "with open('scenario_data.json', 'w') as fp:\n",
    "    json.dump(scenarios, fp, indent=4)"
   ]
  },
  {
   "cell_type": "code",
   "execution_count": null,
   "metadata": {},
   "outputs": [],
   "source": []
  }
 ],
 "metadata": {
  "kernelspec": {
   "display_name": "Python 3",
   "language": "python",
   "name": "python3"
  },
  "language_info": {
   "codemirror_mode": {
    "name": "ipython",
    "version": 3
   },
   "file_extension": ".py",
   "mimetype": "text/x-python",
   "name": "python",
   "nbconvert_exporter": "python",
   "pygments_lexer": "ipython3",
   "version": "3.6.8"
  }
 },
 "nbformat": 4,
 "nbformat_minor": 2
}
